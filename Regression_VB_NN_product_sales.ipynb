{
 "cells": [
  {
   "cell_type": "markdown",
   "metadata": {},
   "source": [
    "# Introduction\n",
    "\n",
    "The purpose of this file is to predict product sales using variational inference neural network. \n",
    "\n",
    "### Data description: \n",
    "\n",
    "What are the features?\n",
    "\n",
    "    TV: advertising dollars spent on TV for a single product in a given market (in thousands of dollars)\n",
    "    Radio: advertising dollars spent on Radio\n",
    "    Newspaper: advertising dollars spent on Newspaper\n",
    "\n",
    "What is the response?\n",
    "\n",
    "    Sales: sales of a single product in a given market (in thousands of items)\n",
    "\n",
    "What else do we know?\n",
    "\n",
    "    Because the response variable is continuous, this is a regression problem.\n",
    "    There are 200 observations (represented by the rows), and each observation is a single market.\n",
    "\n",
    "from https://www.ritchieng.com/machine-learning-linear-regression/"
   ]
  },
  {
   "cell_type": "markdown",
   "metadata": {},
   "source": [
    "The input is standarized so as to have a small dynamic range and to reduce the multicollinearity among variables. This prevents the explosion of the model parameters and the loss function. \n",
    "\n",
    "Use a <b>validation set </b>  as input and <b>RMSE metric </b> to tune the following hyperparameters:\n",
    "\n",
    "* The standard deviation of the normal distribution (likelihood) used to model the output of the model. \n",
    "* The initial values of the model parameters\n",
    "* The learning rate \n",
    "* The structure of the neural network: start with a relatively large network then gradually prune it. \n",
    "* The length of the training run\n",
    "\n"
   ]
  },
  {
   "cell_type": "code",
   "execution_count": 2,
   "metadata": {},
   "outputs": [
    {
     "name": "stderr",
     "output_type": "stream",
     "text": [
      "/home/bashar/anaconda3/envs/conda_env/lib/python3.6/site-packages/h5py/__init__.py:36: FutureWarning: Conversion of the second argument of issubdtype from `float` to `np.floating` is deprecated. In future, it will be treated as `np.float64 == np.dtype(float).type`.\n",
      "  from ._conv import register_converters as _register_converters\n",
      "WARNING (theano.tensor.blas): Using NumPy C-API based implementation for BLAS functions.\n",
      "/home/bashar/anaconda3/envs/conda_env/lib/python3.6/site-packages/sklearn/cross_validation.py:41: DeprecationWarning: This module was deprecated in version 0.18 in favor of the model_selection module into which all the refactored classes and functions are moved. Also note that the interface of the new CV iterators are different from that of this module. This module will be removed in 0.20.\n",
      "  \"This module will be removed in 0.20.\", DeprecationWarning)\n"
     ]
    }
   ],
   "source": [
    "import pandas as pd\n",
    "import numpy as np\n",
    "import tensorflow as tf\n",
    "\n",
    "# visualization\n",
    "import seaborn as sns   # pairplot, PairGrid\n",
    "import matplotlib.pyplot as plt\n",
    "\n",
    "import pymc3 as pm\n",
    "\n",
    "# Modelling\n",
    "from sklearn.linear_model import LinearRegression\n",
    "from sklearn.cross_validation import train_test_split\n",
    "from sklearn import metrics\n",
    "from sklearn import preprocessing"
   ]
  },
  {
   "cell_type": "code",
   "execution_count": 3,
   "metadata": {},
   "outputs": [
    {
     "data": {
      "text/html": [
       "<div>\n",
       "<style scoped>\n",
       "    .dataframe tbody tr th:only-of-type {\n",
       "        vertical-align: middle;\n",
       "    }\n",
       "\n",
       "    .dataframe tbody tr th {\n",
       "        vertical-align: top;\n",
       "    }\n",
       "\n",
       "    .dataframe thead th {\n",
       "        text-align: right;\n",
       "    }\n",
       "</style>\n",
       "<table border=\"1\" class=\"dataframe\">\n",
       "  <thead>\n",
       "    <tr style=\"text-align: right;\">\n",
       "      <th></th>\n",
       "      <th>TV</th>\n",
       "      <th>radio</th>\n",
       "      <th>newspaper</th>\n",
       "      <th>sales</th>\n",
       "    </tr>\n",
       "  </thead>\n",
       "  <tbody>\n",
       "    <tr>\n",
       "      <th>0</th>\n",
       "      <td>230.1</td>\n",
       "      <td>37.8</td>\n",
       "      <td>69.2</td>\n",
       "      <td>22.1</td>\n",
       "    </tr>\n",
       "    <tr>\n",
       "      <th>1</th>\n",
       "      <td>44.5</td>\n",
       "      <td>39.3</td>\n",
       "      <td>45.1</td>\n",
       "      <td>10.4</td>\n",
       "    </tr>\n",
       "    <tr>\n",
       "      <th>2</th>\n",
       "      <td>17.2</td>\n",
       "      <td>45.9</td>\n",
       "      <td>69.3</td>\n",
       "      <td>9.3</td>\n",
       "    </tr>\n",
       "    <tr>\n",
       "      <th>3</th>\n",
       "      <td>151.5</td>\n",
       "      <td>41.3</td>\n",
       "      <td>58.5</td>\n",
       "      <td>18.5</td>\n",
       "    </tr>\n",
       "    <tr>\n",
       "      <th>4</th>\n",
       "      <td>180.8</td>\n",
       "      <td>10.8</td>\n",
       "      <td>58.4</td>\n",
       "      <td>12.9</td>\n",
       "    </tr>\n",
       "  </tbody>\n",
       "</table>\n",
       "</div>"
      ],
      "text/plain": [
       "      TV  radio  newspaper  sales\n",
       "0  230.1   37.8       69.2   22.1\n",
       "1   44.5   39.3       45.1   10.4\n",
       "2   17.2   45.9       69.3    9.3\n",
       "3  151.5   41.3       58.5   18.5\n",
       "4  180.8   10.8       58.4   12.9"
      ]
     },
     "execution_count": 3,
     "metadata": {},
     "output_type": "execute_result"
    }
   ],
   "source": [
    "# Read the data of csv file into a data frame\n",
    "data=pd.read_csv('Advertising.csv')\n",
    "\n",
    "# Remove the first column\n",
    "data=data.drop(columns=['Unnamed: 0'])\n",
    "data=data\n",
    "data.head()\n"
   ]
  },
  {
   "cell_type": "code",
   "execution_count": 4,
   "metadata": {},
   "outputs": [
    {
     "data": {
      "text/plain": [
       "numpy.ndarray"
      ]
     },
     "execution_count": 4,
     "metadata": {},
     "output_type": "execute_result"
    }
   ],
   "source": [
    "type(data.values)"
   ]
  },
  {
   "cell_type": "markdown",
   "metadata": {},
   "source": [
    "### Training data, Validation data, Test data"
   ]
  },
  {
   "cell_type": "code",
   "execution_count": 5,
   "metadata": {},
   "outputs": [],
   "source": [
    "data_x=data[['TV' , 'radio' , 'newspaper']].values #\n",
    "data_y=data['sales'].values[:,None]\n",
    "\n",
    "data_x=preprocessing.scale(data_x)\n",
    "\n",
    "train_x, test_x, train_y,test_y=train_test_split(data_x, data_y, test_size=0.25, random_state=1)\n",
    "train_x, valid_x, train_y,valid_y=train_test_split(train_x, train_y, test_size=0.33, random_state=1)\n",
    "\n",
    "#train_x=preprocessing.scale(train_x)\n",
    "#valid_x=preprocessing.scale(valid_x)\n",
    "#test_x=preprocessing.scale(test_x)\n"
   ]
  },
  {
   "cell_type": "code",
   "execution_count": null,
   "metadata": {},
   "outputs": [],
   "source": []
  },
  {
   "cell_type": "code",
   "execution_count": 6,
   "metadata": {},
   "outputs": [
    {
     "data": {
      "text/plain": [
       "[(100, 3), (50, 3), (50, 3)]"
      ]
     },
     "execution_count": 6,
     "metadata": {},
     "output_type": "execute_result"
    }
   ],
   "source": [
    "[train_x.shape, test_x.shape, valid_x.shape]"
   ]
  },
  {
   "cell_type": "markdown",
   "metadata": {},
   "source": [
    "### Data Visualisation"
   ]
  },
  {
   "cell_type": "code",
   "execution_count": 7,
   "metadata": {},
   "outputs": [
    {
     "data": {
      "image/png": "[encoded data removed]",
      "text/plain": [
       "<matplotlib.figure.Figure at 0x7f3afcd3a630>"
      ]
     },
     "metadata": {},
     "output_type": "display_data"
    }
   ],
   "source": [
    "g = sns.PairGrid(data)\n",
    "g = g.map(plt.scatter)\n"
   ]
  },
  {
   "cell_type": "code",
   "execution_count": 8,
   "metadata": {},
   "outputs": [],
   "source": [
    "# Placeholders to store input and output data during training\n",
    "x = tf.placeholder(tf.float32,shape=(None,3))\n",
    "y_ = tf.placeholder( tf.float32,shape=(None,1))                   "
   ]
  },
  {
   "cell_type": "code",
   "execution_count": 9,
   "metadata": {},
   "outputs": [],
   "source": [
    "n_input=3\n",
    "n_hidden=50 # for 2 hidden layers\n",
    "n_output=1\n",
    "\n",
    "\n",
    "# define network weight shapes\n",
    "n_layers=1\n",
    "\n",
    "# define network weight shapes\n",
    "layer_param_shapes = []\n",
    "for i in range(n_layers + 1):\n",
    "    if i == 0: # input layer\n",
    "        W_shape = [n_input, n_hidden]\n",
    "        b_shape = [n_hidden]\n",
    "    elif i == n_layers: # last layer\n",
    "        W_shape = [n_hidden, n_output]\n",
    "        b_shape = [n_output]\n",
    "    else: # hidden layers\n",
    "        W_shape = [n_hidden, n_hidden]\n",
    "        b_shape = [n_hidden]\n",
    "    layer_param_shapes.append(W_shape)\n",
    "    layer_param_shapes.append(b_shape)\n",
    "    \n",
    "    \n",
    "def net(x, layer_params): # layer_params=[w1,b1,w2,b2,w3,b3]\n",
    "    act1=tf.nn.relu(tf.matmul(x,layer_params[0])+layer_params[1]) \n",
    "    act2=tf.matmul(act1,layer_params[2])+layer_params[3]\n",
    "    #act2=tf.nn.relu(tf.matmul(act1,layer_params[2])+layer_params[3])\n",
    "    #act3=tf.matmul(act2,layer_params[4])+layer_params[5]\n",
    "    output=act2\n",
    "    return output"
   ]
  },
  {
   "cell_type": "code",
   "execution_count": 10,
   "metadata": {},
   "outputs": [
    {
     "data": {
      "text/plain": [
       "[[3, 50], [50], [50, 1], [1]]"
      ]
     },
     "execution_count": 10,
     "metadata": {},
     "output_type": "execute_result"
    }
   ],
   "source": [
    "layer_param_shapes"
   ]
  },
  {
   "cell_type": "markdown",
   "metadata": {},
   "source": [
    "### Objective function"
   ]
  },
  {
   "cell_type": "code",
   "execution_count": 11,
   "metadata": {},
   "outputs": [
    {
     "data": {
      "text/plain": [
       "(100, 1)"
      ]
     },
     "execution_count": 11,
     "metadata": {},
     "output_type": "execute_result"
    }
   ],
   "source": [
    "np.shape(train_y)"
   ]
  },
  {
   "cell_type": "code",
   "execution_count": 12,
   "metadata": {},
   "outputs": [],
   "source": [
    "# loglikelihood (cross entropy)\n",
    "\n",
    "scale=tf.Variable(0.2, dtype=tf.float32)\n",
    "def error_loss(nn_output, y_val, scale=scale):\n",
    "    #SD=np.std(train_y).astype(np.float32)\n",
    "    dist=tf.distributions.Normal(loc=0., scale=scale)\n",
    "    return tf.reduce_sum(-1*dist.log_prob(nn_output-y_val))\n",
    "\n",
    "# - loglikelihood\n",
    "\n",
    "#def error_loss(nn_output, y_val):\n",
    "        #return tf.reduce_sum(tf.square((y_val, nn_output)))\n",
    "# - loglikelihood\n",
    "\n",
    "\n",
    "def log_gauss(x,mu=0.,sigma=0.367): \n",
    "    dist=tf.distributions.Normal(loc=mu, scale=sigma)\n",
    "    return dist.log_prob(x)\n",
    "\n",
    "\n",
    "def complexity_loss(params, mus, sigmas):\n",
    "    log_prior=tf.reduce_sum([tf.reduce_sum(log_gauss(param)) for param in params])\n",
    "    #log_prior=tf.reduce_sum([tf.reduce_sum(scale_mixture(param)) for param in params])\n",
    "    log_variational=tf.reduce_sum([tf.reduce_sum(log_gauss(params[j],mus[j], sigmas[j])) for j in range(len(mus))])\n",
    "    return (log_variational-log_prior)"
   ]
  },
  {
   "cell_type": "markdown",
   "metadata": {},
   "source": [
    "### Learnable parameters: The parameters of the variational distributions placed over the model's parameters\n"
   ]
  },
  {
   "cell_type": "code",
   "execution_count": 13,
   "metadata": {},
   "outputs": [],
   "source": [
    "mus=[tf.Variable(tf.random_normal(shape, mean=0.0,stddev=.05,dtype=tf.float32)) for shape in layer_param_shapes]\n",
    "\n",
    "rhos=[tf.Variable(tf.random_normal(shape, mean=-6.,stddev=.1,dtype=tf.float32)) for shape in layer_param_shapes]\n",
    "\n",
    "sigmas=[tf.exp(rho) for rho in rhos]\n"
   ]
  },
  {
   "cell_type": "code",
   "execution_count": null,
   "metadata": {},
   "outputs": [],
   "source": []
  },
  {
   "cell_type": "markdown",
   "metadata": {},
   "source": [
    "# Algorithm steps\n",
    "\n",
    "The Monte Carlo integration is used here for one sample drawn from the variational distribution"
   ]
  },
  {
   "cell_type": "code",
   "execution_count": 14,
   "metadata": {},
   "outputs": [],
   "source": [
    "#1- draw epsilons from N(0,1)\n",
    "epsilons =[tf.random_normal(shape, mean=0.0,stddev=1.0,dtype=tf.float32) for shape in layer_param_shapes]\n",
    "\n",
    "#2- w=mu+sigma*epsilon\n",
    "\n",
    "layer_params=[mus[j]+sigmas[j]*epsilons[j] for j in range(len(mus))]\n",
    "\n",
    "#3- compute the network output using parameters in (2) and a batch of input images\n",
    "output = net(x, layer_params)\n",
    "\n",
    "#4- Loss function\n",
    "loss1=complexity_loss(layer_params, mus, sigmas)\n",
    "loss2=error_loss(output, y_, scale)\n",
    "#lossL2 = tf.add_n([ tf.nn.l2_loss(mus[0]), tf.nn.l2_loss(mus[2]),tf.nn.l2_loss(mus[4])]) * 0.001\n",
    "loss=loss1+loss2\n"
   ]
  },
  {
   "cell_type": "code",
   "execution_count": 15,
   "metadata": {},
   "outputs": [],
   "source": [
    "error=tf.sqrt(tf.reduce_mean(tf.square(output-y_)))"
   ]
  },
  {
   "cell_type": "code",
   "execution_count": 16,
   "metadata": {},
   "outputs": [],
   "source": [
    "learning_rate=0.001\n",
    "#train_step = tf.train.GradientDescentOptimizer(learning_rate).minimize(loss)\n",
    "train_step = tf.train.AdamOptimizer(learning_rate).minimize(loss)\n"
   ]
  },
  {
   "cell_type": "code",
   "execution_count": 17,
   "metadata": {},
   "outputs": [],
   "source": [
    "# The following function is used to compute the predicted output\n",
    "# for one sample drawn from the variational distribution\n",
    "\n",
    "def compute_predicte(x, mus, sigmas, layer_param_shapes):\n",
    "    epsilons =[tf.random_normal(shape, mean=0.0,stddev=1.,dtype=tf.float32) for shape in layer_param_shapes]\n",
    "    params=[mus[j]+sigmas[j]*epsilons[j] for j in range(len(mus))]\n",
    "    output=net(x, params)\n",
    "    \n",
    "    return output\n",
    "\n",
    "predict=compute_predicte(x, mus, sigmas, layer_param_shapes)"
   ]
  },
  {
   "cell_type": "code",
   "execution_count": 18,
   "metadata": {},
   "outputs": [],
   "source": [
    "sess=tf.Session()\n",
    "init=tf.global_variables_initializer()\n",
    "sess.run(init)"
   ]
  },
  {
   "cell_type": "code",
   "execution_count": 19,
   "metadata": {},
   "outputs": [],
   "source": [
    "#Training Loop:\n",
    "n_epochs=5000\n",
    "loss_list=[]\n",
    "valid_list=[]\n",
    "train_list=[]\n",
    "\n",
    "for epoch in range(n_epochs):\n",
    "    cost, _=sess.run([loss,train_step], feed_dict={x: train_x, y_:train_y})\n",
    "    train_err=sess.run(error, feed_dict={x: train_x, y_:train_y})\n",
    "    valid_err=sess.run(error, feed_dict={x: valid_x, y_:valid_y})\n",
    "\n",
    "    loss_list.append(cost)\n",
    "    train_list.append(train_err)\n",
    "    valid_list.append(valid_err)\n"
   ]
  },
  {
   "cell_type": "code",
   "execution_count": 20,
   "metadata": {},
   "outputs": [
    {
     "data": {
      "text/plain": [
       "[<matplotlib.lines.Line2D at 0x7f3ae2f9a6a0>]"
      ]
     },
     "execution_count": 20,
     "metadata": {},
     "output_type": "execute_result"
    },
    {
     "data": {
      "image/png": "[encoded data removed]",
      "text/plain": [
       "<matplotlib.figure.Figure at 0x7f3aebe56390>"
      ]
     },
     "metadata": {},
     "output_type": "display_data"
    }
   ],
   "source": [
    "# The objective function\n",
    "plt.plot(loss_list)"
   ]
  },
  {
   "cell_type": "code",
   "execution_count": 21,
   "metadata": {},
   "outputs": [
    {
     "data": {
      "text/plain": [
       "[<matplotlib.lines.Line2D at 0x7f3ae2f7b710>]"
      ]
     },
     "execution_count": 21,
     "metadata": {},
     "output_type": "execute_result"
    },
    {
     "data": {
      "image/png": "[encoded data removed]",
      "text/plain": [
       "<matplotlib.figure.Figure at 0x7f3ae2faa208>"
      ]
     },
     "metadata": {},
     "output_type": "display_data"
    }
   ],
   "source": [
    "# The validation error is computing during training using the MAP estimate \n",
    "plt.plot(valid_list)\n"
   ]
  },
  {
   "cell_type": "markdown",
   "metadata": {},
   "source": [
    "# Validation error "
   ]
  },
  {
   "cell_type": "code",
   "execution_count": 22,
   "metadata": {},
   "outputs": [
    {
     "data": {
      "text/plain": [
       "0.6281406278868025"
      ]
     },
     "execution_count": 22,
     "metadata": {},
     "output_type": "execute_result"
    }
   ],
   "source": [
    "# using Monte Carlo Integration with 100 samples drawn from the variational distribution\n",
    "n_samples=100\n",
    "out=np.zeros((n_samples,len(valid_x)))\n",
    "\n",
    "for n in range(n_samples):\n",
    "    out[n]=sess.run(predict,feed_dict={x:valid_x}).squeeze()\n",
    "\n",
    "predicted=np.mean(out,0).squeeze() # Monte Carlo \n",
    "np.sqrt(np.mean(np.square(predicted-valid_y.squeeze()))) \n"
   ]
  },
  {
   "cell_type": "markdown",
   "metadata": {},
   "source": [
    "# Test  error "
   ]
  },
  {
   "cell_type": "code",
   "execution_count": 23,
   "metadata": {},
   "outputs": [
    {
     "name": "stdout",
     "output_type": "stream",
     "text": [
      "RMSE= 0.525081170971991\n"
     ]
    }
   ],
   "source": [
    "# The validation error is computing during training using 100 samples\n",
    "\n",
    "n_samples=100\n",
    "out=np.zeros((n_samples,len(test_x)))\n",
    "\n",
    "for n in range(n_samples):\n",
    "    out[n]=sess.run(predict,feed_dict={x:test_x}).squeeze()\n",
    "\n",
    "predicted=np.mean(out,0).squeeze() # Monte Carlo \n",
    "RMSE=np.sqrt(np.mean(np.square(predicted-test_y.squeeze()))) \n",
    "\n",
    "print('RMSE=', RMSE)"
   ]
  },
  {
   "cell_type": "code",
   "execution_count": null,
   "metadata": {},
   "outputs": [],
   "source": []
  },
  {
   "cell_type": "code",
   "execution_count": null,
   "metadata": {},
   "outputs": [],
   "source": []
  },
  {
   "cell_type": "code",
   "execution_count": null,
   "metadata": {},
   "outputs": [],
   "source": []
  },
  {
   "cell_type": "code",
   "execution_count": null,
   "metadata": {},
   "outputs": [],
   "source": []
  },
  {
   "cell_type": "code",
   "execution_count": null,
   "metadata": {},
   "outputs": [],
   "source": []
  }
 ],
 "metadata": {
  "kernelspec": {
   "display_name": "Python 3",
   "language": "python",
   "name": "python3"
  },
  "language_info": {
   "codemirror_mode": {
    "name": "ipython",
    "version": 3
   },
   "file_extension": ".py",
   "mimetype": "text/x-python",
   "name": "python",
   "nbconvert_exporter": "python",
   "pygments_lexer": "ipython3",
   "version": "3.6.4"
  }
 },
 "nbformat": 4,
 "nbformat_minor": 2
}
