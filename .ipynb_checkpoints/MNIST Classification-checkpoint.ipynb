{
 "cells": [
  {
   "cell_type": "markdown",
   "metadata": {},
   "source": [
    " # <center> MNIST classification </center>"
   ]
  },
  {
   "cell_type": "markdown",
   "metadata": {},
   "source": [
    "The aim of this file is to train a two-layer neural network defined as [784, 400, 400, 10] using variarional bayes. The training dataset consistes of 50 thousands images containing hand-written characters. 10 thousands images are used to test the performance of the model after training.  "
   ]
  },
  {
   "cell_type": "code",
   "execution_count": 1,
   "metadata": {},
   "outputs": [
    {
     "name": "stderr",
     "output_type": "stream",
     "text": [
      "/home/bashar/anaconda3/envs/conda_env/lib/python3.6/site-packages/h5py/__init__.py:36: FutureWarning: Conversion of the second argument of issubdtype from `float` to `np.floating` is deprecated. In future, it will be treated as `np.float64 == np.dtype(float).type`.\n",
      "  from ._conv import register_converters as _register_converters\n"
     ]
    }
   ],
   "source": [
    "import matplotlib.pyplot as plt\n",
    "import tensorflow as tf\n",
    "import numpy as np\n",
    "from tensorflow.examples.tutorials.mnist import input_data\n",
    "import math\n",
    "import matplotlib.patches as mpatches\n",
    "\n",
    "import sklearn.model_selection as sk\n",
    "from sklearn.model_selection import KFold, cross_val_score\n",
    "\n",
    "\n",
    "from tempfile import TemporaryFile\n",
    "from tensorflow.contrib.distributions import percentile\n",
    "\n",
    "from Dataset import Dataset"
   ]
  },
  {
   "cell_type": "code",
   "execution_count": 2,
   "metadata": {},
   "outputs": [
    {
     "name": "stdout",
     "output_type": "stream",
     "text": [
      "WARNING:tensorflow:From <ipython-input-2-e48ed1101c1e>:1: read_data_sets (from tensorflow.contrib.learn.python.learn.datasets.mnist) is deprecated and will be removed in a future version.\n",
      "Instructions for updating:\n",
      "Please use alternatives such as official/mnist/dataset.py from tensorflow/models.\n",
      "WARNING:tensorflow:From /home/bashar/anaconda3/envs/conda_env/lib/python3.6/site-packages/tensorflow/contrib/learn/python/learn/datasets/mnist.py:260: maybe_download (from tensorflow.contrib.learn.python.learn.datasets.base) is deprecated and will be removed in a future version.\n",
      "Instructions for updating:\n",
      "Please write your own downloading logic.\n",
      "WARNING:tensorflow:From /home/bashar/anaconda3/envs/conda_env/lib/python3.6/site-packages/tensorflow/contrib/learn/python/learn/datasets/base.py:252: _internal_retry.<locals>.wrap.<locals>.wrapped_fn (from tensorflow.contrib.learn.python.learn.datasets.base) is deprecated and will be removed in a future version.\n",
      "Instructions for updating:\n",
      "Please use urllib or similar directly.\n",
      "Successfully downloaded train-images-idx3-ubyte.gz 9912422 bytes.\n",
      "WARNING:tensorflow:From /home/bashar/anaconda3/envs/conda_env/lib/python3.6/site-packages/tensorflow/contrib/learn/python/learn/datasets/mnist.py:262: extract_images (from tensorflow.contrib.learn.python.learn.datasets.mnist) is deprecated and will be removed in a future version.\n",
      "Instructions for updating:\n",
      "Please use tf.data to implement this functionality.\n",
      "Extracting MNIST_data/train-images-idx3-ubyte.gz\n",
      "Successfully downloaded train-labels-idx1-ubyte.gz 28881 bytes.\n",
      "WARNING:tensorflow:From /home/bashar/anaconda3/envs/conda_env/lib/python3.6/site-packages/tensorflow/contrib/learn/python/learn/datasets/mnist.py:267: extract_labels (from tensorflow.contrib.learn.python.learn.datasets.mnist) is deprecated and will be removed in a future version.\n",
      "Instructions for updating:\n",
      "Please use tf.data to implement this functionality.\n",
      "Extracting MNIST_data/train-labels-idx1-ubyte.gz\n",
      "WARNING:tensorflow:From /home/bashar/anaconda3/envs/conda_env/lib/python3.6/site-packages/tensorflow/contrib/learn/python/learn/datasets/mnist.py:110: dense_to_one_hot (from tensorflow.contrib.learn.python.learn.datasets.mnist) is deprecated and will be removed in a future version.\n",
      "Instructions for updating:\n",
      "Please use tf.one_hot on tensors.\n",
      "Successfully downloaded t10k-images-idx3-ubyte.gz 1648877 bytes.\n",
      "Extracting MNIST_data/t10k-images-idx3-ubyte.gz\n",
      "Successfully downloaded t10k-labels-idx1-ubyte.gz 4542 bytes.\n",
      "Extracting MNIST_data/t10k-labels-idx1-ubyte.gz\n",
      "WARNING:tensorflow:From /home/bashar/anaconda3/envs/conda_env/lib/python3.6/site-packages/tensorflow/contrib/learn/python/learn/datasets/mnist.py:290: DataSet.__init__ (from tensorflow.contrib.learn.python.learn.datasets.mnist) is deprecated and will be removed in a future version.\n",
      "Instructions for updating:\n",
      "Please use alternatives such as official/mnist/dataset.py from tensorflow/models.\n"
     ]
    }
   ],
   "source": [
    "mnist = input_data.read_data_sets(\"MNIST_data/\", one_hot=True)\n",
    "# Placeholders for holding input and output \n",
    "x = tf.placeholder(tf.float32, [None, 784])  # None to fit any size of minibatch\n",
    "y_=tf.placeholder(tf.float32,[None, 10])\n"
   ]
  },
  {
   "cell_type": "code",
   "execution_count": 3,
   "metadata": {},
   "outputs": [],
   "source": [
    "####################################################################################\n",
    "################ Training: Validation: Testing= 50k, 10k, 10k images ######################\n",
    "####################################################################################\n",
    "\n",
    "### Image normalization\n",
    "\n",
    "train_x=mnist.train.images\n",
    "train_y=mnist.train.labels\n",
    "\n",
    "valid_x1=mnist.validation.images \n",
    "valid_y1=mnist.validation.labels  \n",
    "\n",
    "test_x=mnist.test.images \n",
    "test_y=mnist.test.labels\n",
    "\n",
    "\n",
    "l=np.shape(train_x)\n",
    "m=np.mean(train_x,axis=1)\n",
    "s=np.std(train_x,axis=1)\n",
    "y=np.zeros(l)\n",
    "for i in range(l[0]):\n",
    "    y[i]=(train_x[i]-m[i])/s[i]\n",
    "train_x=y.astype('float32')\n",
    "\n",
    "l=np.shape(valid_x1)\n",
    "m=np.mean(valid_x1,axis=1)\n",
    "s=np.std(valid_x1,axis=1)\n",
    "y=np.zeros(l)\n",
    "\n",
    "for i in range(l[0]):\n",
    "    y[i]=(valid_x1[i]-m[i])/s[i]\n",
    "valid_x1=y.astype('float32')\n",
    "\n",
    "l=np.shape(test_x)\n",
    "m=np.mean(test_x,axis=1)\n",
    "s=np.std(test_x,axis=1)\n",
    "y=np.zeros(l)\n",
    "for i in range(l[0]):\n",
    "    y[i]=(test_x[i]-m[i])/s[i]\n",
    "test_x=y.astype('float32')\n",
    "\n",
    "\n",
    "train_x, valid_x2,train_y, valid_y2=sk.train_test_split(train_x,  train_y,  test_size=0.09090, random_state = 42, shuffle=True, stratify=train_y)\n",
    "\n",
    "valid_x=np.concatenate((valid_x1, valid_x2))\n",
    "valid_y=np.concatenate((valid_y1, valid_y2))\n",
    "\n",
    "dataset= Dataset(train_x, train_y)  # create an object of the class Dataset to generate a next batch \n"
   ]
  },
  {
   "cell_type": "code",
   "execution_count": 4,
   "metadata": {},
   "outputs": [],
   "source": [
    "# Network structure\n",
    "n_input=784\n",
    "n_hidden=400  # for 2 hidden layers\n",
    "n_output=10\n",
    "\n",
    "\n",
    "# define network weight shapes\n",
    "n_layers=2\n",
    "# define network weight shapes\n",
    "layer_param_shapes = []\n",
    "for i in range(n_layers + 1):\n",
    "    if i == 0: # input layer\n",
    "        W_shape = [n_input, n_hidden]\n",
    "        b_shape = [n_hidden]\n",
    "    elif i == n_layers: # last layer\n",
    "        W_shape = [n_hidden, n_output]\n",
    "        b_shape = [n_output]\n",
    "    else: # hidden layers\n",
    "        W_shape = [n_hidden, n_hidden]\n",
    "        b_shape = [n_hidden]\n",
    "    layer_param_shapes.append(W_shape)\n",
    "    layer_param_shapes.append(b_shape)\n",
    "\n",
    "\n",
    "# Compute the network output\n",
    "def net(x, layer_params): # layer_params=[w1,b1,w2,b2,w3,b3]\n",
    "    act1=tf.nn.relu(tf.matmul(x,layer_params[0])+layer_params[1]) \n",
    "    act2=tf.nn.relu(tf.matmul(act1,layer_params[2])+layer_params[3])\n",
    "    act3=tf.matmul(act2,layer_params[4])+layer_params[5]\n",
    "    output=act3\n",
    "\n",
    "    return output\n",
    "\n"
   ]
  },
  {
   "cell_type": "code",
   "execution_count": 5,
   "metadata": {},
   "outputs": [],
   "source": [
    "# loglikelihood (cross entropy)\n",
    "def error_loss(nn_output, labels):\n",
    "    return tf.reduce_sum(tf.nn.softmax_cross_entropy_with_logits(logits=nn_output, labels=labels))\n",
    "\n",
    "def log_gauss(x,mu=0.,sigma=0.367): \n",
    "    dist=tf.distributions.Normal(loc=mu, scale=sigma)\n",
    "    return dist.log_prob(x)\n",
    "\n",
    "# complexity loss= logq(w)-logp(w)\n",
    "def complexity_loss(params, mus, sigmas):\n",
    "    log_prior=tf.reduce_sum([tf.reduce_sum(log_gauss(param)) for param in params])\n",
    "    log_variational=tf.reduce_sum([tf.reduce_sum(log_gauss(params[j],mus[j], sigmas[j])) for j in range(len(mus))])\n",
    "    return log_variational-log_prior\n"
   ]
  },
  {
   "cell_type": "code",
   "execution_count": 6,
   "metadata": {},
   "outputs": [],
   "source": [
    "# Trainable parametrs: The parameters of the variational distribution\n",
    "mus=[tf.Variable(tf.random_normal(shape, mean=0.0,stddev=0.05,dtype=tf.float32)) for shape in layer_param_shapes]\n",
    "\n",
    "rhos=[tf.Variable(tf.random_normal(shape, mean=-3., stddev=0.1,dtype=tf.float32)) for shape in layer_param_shapes]\n",
    "sigmas=[tf.exp(rho) for rho in rhos]\n"
   ]
  },
  {
   "cell_type": "code",
   "execution_count": 7,
   "metadata": {},
   "outputs": [
    {
     "name": "stdout",
     "output_type": "stream",
     "text": [
      "WARNING:tensorflow:From <ipython-input-5-6e1535eef8db>:3: softmax_cross_entropy_with_logits (from tensorflow.python.ops.nn_ops) is deprecated and will be removed in a future version.\n",
      "Instructions for updating:\n",
      "\n",
      "Future major versions of TensorFlow will allow gradients to flow\n",
      "into the labels input on backprop by default.\n",
      "\n",
      "See @{tf.nn.softmax_cross_entropy_with_logits_v2}.\n",
      "\n"
     ]
    }
   ],
   "source": [
    "## computing the unbiased estimate of the objective function using Monte Carlo Integration\n",
    "# n_samples is the number of samples drawn from the variational distribution and used to compute the above estimate. \n",
    "N=128 # batch size\n",
    "total_batch = int(mnist.train.num_examples/N)\n",
    "\n",
    "n_samples=1\n",
    "layer_params=[[]]*n_samples\n",
    "output=[[]]*n_samples\n",
    "loss1=[[]]*n_samples\n",
    "loss2=[[]]*n_samples\n",
    "\n",
    "for s in range(n_samples):\n",
    "    #1- draw epsilons from N(0,1)\n",
    "    epsilons =[tf.random_normal(shape, mean=0.0,stddev=1.0,dtype=tf.float32) for shape in layer_param_shapes]\n",
    "\n",
    "    #2- w=mu+sigma*epsilon\n",
    "   \n",
    "    layer_params[s]=[mus[j]+sigmas[j]*epsilons[j] for j in range(len(mus))]\n",
    "\n",
    "    #3- compute the network output using parameters in (2) and a batch of input images\n",
    "    output[s]= net(x, layer_params[s])\n",
    "\n",
    "    #4- Loss function\n",
    "    loss1[s]=(1.0/total_batch)*complexity_loss(layer_params[s], mus, sigmas)\n",
    "\n",
    "    loss2[s]=error_loss(output[s], y_)\n",
    "\n",
    "loss=tf.reduce_mean(tf.stack(loss1)+tf.stack(loss2))  # see Variational Bayes part I\n"
   ]
  },
  {
   "cell_type": "code",
   "execution_count": 8,
   "metadata": {},
   "outputs": [],
   "source": [
    "learning_rate = 0.001\n",
    "train_step = tf.train.GradientDescentOptimizer(learning_rate).minimize(loss)\n",
    "#train_step = tf.train.AdamOptimizer(learning_rate=0.001,beta1=0.9, beta2=0.999,epsilon=1e-08,).minimize(loss)"
   ]
  },
  {
   "cell_type": "code",
   "execution_count": 9,
   "metadata": {},
   "outputs": [],
   "source": [
    "## Compute Accuracy using the means of the variational distributions\n",
    "def compute_acc(x,y_,mus):\n",
    "    output = net(x, mus)\n",
    "    correct_prediction = tf.equal(tf.argmax(output, 1), tf.argmax(y_, 1))\n",
    "    accuracy = tf.reduce_mean(tf.cast(correct_prediction, tf.float32))\n",
    "    return accuracy\n",
    "\n",
    "accuracy=compute_acc(x,y_, mus)\n"
   ]
  },
  {
   "cell_type": "code",
   "execution_count": 10,
   "metadata": {},
   "outputs": [],
   "source": [
    "### After the end of training, we compute predixtion (network out) using one sample from the variational distribution\n",
    "def compute_predicte(x, mus, sigmas):\n",
    "    epsilons =[tf.random_normal(shape, mean=0.0,stddev=1.,dtype=tf.float32) for shape in layer_param_shapes]\n",
    "    params=[mus[j]+sigmas[j]*epsilons[j] for j in range(len(mus))]\n",
    "\n",
    "    output=net(x, params)\n",
    "    return output\n",
    "\n",
    "predict=compute_predicte(x, mus, sigmas)"
   ]
  },
  {
   "cell_type": "code",
   "execution_count": 11,
   "metadata": {},
   "outputs": [],
   "source": [
    "sess = tf.Session(config=tf.ConfigProto(log_device_placement=True))\n",
    "init=tf.global_variables_initializer()\n",
    "sess.run(init)"
   ]
  },
  {
   "cell_type": "code",
   "execution_count": 12,
   "metadata": {},
   "outputs": [
    {
     "name": "stdout",
     "output_type": "stream",
     "text": [
      "Epoch 0. Train_Acc  93.8759982585907. Valid_Acc: 93.58000159263611. \n",
      "Epoch 10. Train_Acc  98.6299991607666. Valid_Acc: 97.61999845504761. \n",
      "Epoch 20. Train_Acc  99.36800003051758. Valid_Acc: 98.18000197410583. \n",
      "Epoch 30. Train_Acc  99.6720016002655. Valid_Acc: 98.05999994277954. \n",
      "Epoch 40. Train_Acc  99.84599947929382. Valid_Acc: 98.28000068664551. \n",
      "Epoch 50. Train_Acc  99.89399909973145. Valid_Acc: 98.15000295639038. \n",
      "Epoch 60. Train_Acc  99.9239981174469. Valid_Acc: 98.22999835014343. \n",
      "Epoch 70. Train_Acc  99.95399713516235. Valid_Acc: 98.40999841690063. \n",
      "Epoch 80. Train_Acc  99.9559998512268. Valid_Acc: 98.30999970436096. \n",
      "Epoch 90. Train_Acc  99.96600151062012. Valid_Acc: 98.40999841690063. \n"
     ]
    },
    {
     "ename": "KeyboardInterrupt",
     "evalue": "",
     "output_type": "error",
     "traceback": [
      "\u001b[0;31m---------------------------------------------------------------------------\u001b[0m",
      "\u001b[0;31mKeyboardInterrupt\u001b[0m                         Traceback (most recent call last)",
      "\u001b[0;32m<ipython-input-12-dc156be4b272>\u001b[0m in \u001b[0;36m<module>\u001b[0;34m()\u001b[0m\n\u001b[1;32m     12\u001b[0m         \u001b[0mbatch_x\u001b[0m\u001b[0;34m,\u001b[0m \u001b[0mbatch_y\u001b[0m\u001b[0;34m=\u001b[0m\u001b[0mdataset\u001b[0m\u001b[0;34m.\u001b[0m\u001b[0mnext_batch\u001b[0m\u001b[0;34m(\u001b[0m\u001b[0mN\u001b[0m\u001b[0;34m)\u001b[0m\u001b[0;34m\u001b[0m\u001b[0m\n\u001b[1;32m     13\u001b[0m         \u001b[0m_\u001b[0m\u001b[0;34m=\u001b[0m\u001b[0msess\u001b[0m\u001b[0;34m.\u001b[0m\u001b[0mrun\u001b[0m\u001b[0;34m(\u001b[0m\u001b[0mtrain_step\u001b[0m\u001b[0;34m,\u001b[0m \u001b[0mfeed_dict\u001b[0m\u001b[0;34m=\u001b[0m\u001b[0;34m{\u001b[0m\u001b[0mx\u001b[0m\u001b[0;34m:\u001b[0m \u001b[0mbatch_x\u001b[0m\u001b[0;34m,\u001b[0m \u001b[0my_\u001b[0m\u001b[0;34m:\u001b[0m \u001b[0mbatch_y\u001b[0m\u001b[0;34m}\u001b[0m\u001b[0;34m)\u001b[0m\u001b[0;34m\u001b[0m\u001b[0m\n\u001b[0;32m---> 14\u001b[0;31m         \u001b[0mloss_\u001b[0m\u001b[0;34m=\u001b[0m\u001b[0msess\u001b[0m\u001b[0;34m.\u001b[0m\u001b[0mrun\u001b[0m\u001b[0;34m(\u001b[0m\u001b[0mloss\u001b[0m\u001b[0;34m,\u001b[0m \u001b[0mfeed_dict\u001b[0m\u001b[0;34m=\u001b[0m\u001b[0;34m{\u001b[0m\u001b[0mx\u001b[0m\u001b[0;34m:\u001b[0m \u001b[0mbatch_x\u001b[0m\u001b[0;34m,\u001b[0m \u001b[0my_\u001b[0m\u001b[0;34m:\u001b[0m \u001b[0mbatch_y\u001b[0m\u001b[0;34m}\u001b[0m\u001b[0;34m)\u001b[0m\u001b[0;34m\u001b[0m\u001b[0m\n\u001b[0m\u001b[1;32m     15\u001b[0m         \u001b[0mloss_list\u001b[0m\u001b[0;34m.\u001b[0m\u001b[0mappend\u001b[0m\u001b[0;34m(\u001b[0m\u001b[0mloss_\u001b[0m\u001b[0;34m)\u001b[0m\u001b[0;34m\u001b[0m\u001b[0m\n\u001b[1;32m     16\u001b[0m \u001b[0;34m\u001b[0m\u001b[0m\n",
      "\u001b[0;32m~/anaconda3/envs/conda_env/lib/python3.6/site-packages/tensorflow/python/client/session.py\u001b[0m in \u001b[0;36mrun\u001b[0;34m(self, fetches, feed_dict, options, run_metadata)\u001b[0m\n\u001b[1;32m    875\u001b[0m     \u001b[0;32mtry\u001b[0m\u001b[0;34m:\u001b[0m\u001b[0;34m\u001b[0m\u001b[0m\n\u001b[1;32m    876\u001b[0m       result = self._run(None, fetches, feed_dict, options_ptr,\n\u001b[0;32m--> 877\u001b[0;31m                          run_metadata_ptr)\n\u001b[0m\u001b[1;32m    878\u001b[0m       \u001b[0;32mif\u001b[0m \u001b[0mrun_metadata\u001b[0m\u001b[0;34m:\u001b[0m\u001b[0;34m\u001b[0m\u001b[0m\n\u001b[1;32m    879\u001b[0m         \u001b[0mproto_data\u001b[0m \u001b[0;34m=\u001b[0m \u001b[0mtf_session\u001b[0m\u001b[0;34m.\u001b[0m\u001b[0mTF_GetBuffer\u001b[0m\u001b[0;34m(\u001b[0m\u001b[0mrun_metadata_ptr\u001b[0m\u001b[0;34m)\u001b[0m\u001b[0;34m\u001b[0m\u001b[0m\n",
      "\u001b[0;32m~/anaconda3/envs/conda_env/lib/python3.6/site-packages/tensorflow/python/client/session.py\u001b[0m in \u001b[0;36m_run\u001b[0;34m(self, handle, fetches, feed_dict, options, run_metadata)\u001b[0m\n\u001b[1;32m   1098\u001b[0m     \u001b[0;32mif\u001b[0m \u001b[0mfinal_fetches\u001b[0m \u001b[0;32mor\u001b[0m \u001b[0mfinal_targets\u001b[0m \u001b[0;32mor\u001b[0m \u001b[0;34m(\u001b[0m\u001b[0mhandle\u001b[0m \u001b[0;32mand\u001b[0m \u001b[0mfeed_dict_tensor\u001b[0m\u001b[0;34m)\u001b[0m\u001b[0;34m:\u001b[0m\u001b[0;34m\u001b[0m\u001b[0m\n\u001b[1;32m   1099\u001b[0m       results = self._do_run(handle, final_targets, final_fetches,\n\u001b[0;32m-> 1100\u001b[0;31m                              feed_dict_tensor, options, run_metadata)\n\u001b[0m\u001b[1;32m   1101\u001b[0m     \u001b[0;32melse\u001b[0m\u001b[0;34m:\u001b[0m\u001b[0;34m\u001b[0m\u001b[0m\n\u001b[1;32m   1102\u001b[0m       \u001b[0mresults\u001b[0m \u001b[0;34m=\u001b[0m \u001b[0;34m[\u001b[0m\u001b[0;34m]\u001b[0m\u001b[0;34m\u001b[0m\u001b[0m\n",
      "\u001b[0;32m~/anaconda3/envs/conda_env/lib/python3.6/site-packages/tensorflow/python/client/session.py\u001b[0m in \u001b[0;36m_do_run\u001b[0;34m(self, handle, target_list, fetch_list, feed_dict, options, run_metadata)\u001b[0m\n\u001b[1;32m   1270\u001b[0m     \u001b[0;32mif\u001b[0m \u001b[0mhandle\u001b[0m \u001b[0;32mis\u001b[0m \u001b[0;32mNone\u001b[0m\u001b[0;34m:\u001b[0m\u001b[0;34m\u001b[0m\u001b[0m\n\u001b[1;32m   1271\u001b[0m       return self._do_call(_run_fn, feeds, fetches, targets, options,\n\u001b[0;32m-> 1272\u001b[0;31m                            run_metadata)\n\u001b[0m\u001b[1;32m   1273\u001b[0m     \u001b[0;32melse\u001b[0m\u001b[0;34m:\u001b[0m\u001b[0;34m\u001b[0m\u001b[0m\n\u001b[1;32m   1274\u001b[0m       \u001b[0;32mreturn\u001b[0m \u001b[0mself\u001b[0m\u001b[0;34m.\u001b[0m\u001b[0m_do_call\u001b[0m\u001b[0;34m(\u001b[0m\u001b[0m_prun_fn\u001b[0m\u001b[0;34m,\u001b[0m \u001b[0mhandle\u001b[0m\u001b[0;34m,\u001b[0m \u001b[0mfeeds\u001b[0m\u001b[0;34m,\u001b[0m \u001b[0mfetches\u001b[0m\u001b[0;34m)\u001b[0m\u001b[0;34m\u001b[0m\u001b[0m\n",
      "\u001b[0;32m~/anaconda3/envs/conda_env/lib/python3.6/site-packages/tensorflow/python/client/session.py\u001b[0m in \u001b[0;36m_do_call\u001b[0;34m(self, fn, *args)\u001b[0m\n\u001b[1;32m   1276\u001b[0m   \u001b[0;32mdef\u001b[0m \u001b[0m_do_call\u001b[0m\u001b[0;34m(\u001b[0m\u001b[0mself\u001b[0m\u001b[0;34m,\u001b[0m \u001b[0mfn\u001b[0m\u001b[0;34m,\u001b[0m \u001b[0;34m*\u001b[0m\u001b[0margs\u001b[0m\u001b[0;34m)\u001b[0m\u001b[0;34m:\u001b[0m\u001b[0;34m\u001b[0m\u001b[0m\n\u001b[1;32m   1277\u001b[0m     \u001b[0;32mtry\u001b[0m\u001b[0;34m:\u001b[0m\u001b[0;34m\u001b[0m\u001b[0m\n\u001b[0;32m-> 1278\u001b[0;31m       \u001b[0;32mreturn\u001b[0m \u001b[0mfn\u001b[0m\u001b[0;34m(\u001b[0m\u001b[0;34m*\u001b[0m\u001b[0margs\u001b[0m\u001b[0;34m)\u001b[0m\u001b[0;34m\u001b[0m\u001b[0m\n\u001b[0m\u001b[1;32m   1279\u001b[0m     \u001b[0;32mexcept\u001b[0m \u001b[0merrors\u001b[0m\u001b[0;34m.\u001b[0m\u001b[0mOpError\u001b[0m \u001b[0;32mas\u001b[0m \u001b[0me\u001b[0m\u001b[0;34m:\u001b[0m\u001b[0;34m\u001b[0m\u001b[0m\n\u001b[1;32m   1280\u001b[0m       \u001b[0mmessage\u001b[0m \u001b[0;34m=\u001b[0m \u001b[0mcompat\u001b[0m\u001b[0;34m.\u001b[0m\u001b[0mas_text\u001b[0m\u001b[0;34m(\u001b[0m\u001b[0me\u001b[0m\u001b[0;34m.\u001b[0m\u001b[0mmessage\u001b[0m\u001b[0;34m)\u001b[0m\u001b[0;34m\u001b[0m\u001b[0m\n",
      "\u001b[0;32m~/anaconda3/envs/conda_env/lib/python3.6/site-packages/tensorflow/python/client/session.py\u001b[0m in \u001b[0;36m_run_fn\u001b[0;34m(feed_dict, fetch_list, target_list, options, run_metadata)\u001b[0m\n\u001b[1;32m   1261\u001b[0m       \u001b[0mself\u001b[0m\u001b[0;34m.\u001b[0m\u001b[0m_extend_graph\u001b[0m\u001b[0;34m(\u001b[0m\u001b[0;34m)\u001b[0m\u001b[0;34m\u001b[0m\u001b[0m\n\u001b[1;32m   1262\u001b[0m       return self._call_tf_sessionrun(\n\u001b[0;32m-> 1263\u001b[0;31m           options, feed_dict, fetch_list, target_list, run_metadata)\n\u001b[0m\u001b[1;32m   1264\u001b[0m \u001b[0;34m\u001b[0m\u001b[0m\n\u001b[1;32m   1265\u001b[0m     \u001b[0;32mdef\u001b[0m \u001b[0m_prun_fn\u001b[0m\u001b[0;34m(\u001b[0m\u001b[0mhandle\u001b[0m\u001b[0;34m,\u001b[0m \u001b[0mfeed_dict\u001b[0m\u001b[0;34m,\u001b[0m \u001b[0mfetch_list\u001b[0m\u001b[0;34m)\u001b[0m\u001b[0;34m:\u001b[0m\u001b[0;34m\u001b[0m\u001b[0m\n",
      "\u001b[0;32m~/anaconda3/envs/conda_env/lib/python3.6/site-packages/tensorflow/python/client/session.py\u001b[0m in \u001b[0;36m_call_tf_sessionrun\u001b[0;34m(self, options, feed_dict, fetch_list, target_list, run_metadata)\u001b[0m\n\u001b[1;32m   1348\u001b[0m     return tf_session.TF_SessionRun_wrapper(\n\u001b[1;32m   1349\u001b[0m         \u001b[0mself\u001b[0m\u001b[0;34m.\u001b[0m\u001b[0m_session\u001b[0m\u001b[0;34m,\u001b[0m \u001b[0moptions\u001b[0m\u001b[0;34m,\u001b[0m \u001b[0mfeed_dict\u001b[0m\u001b[0;34m,\u001b[0m \u001b[0mfetch_list\u001b[0m\u001b[0;34m,\u001b[0m \u001b[0mtarget_list\u001b[0m\u001b[0;34m,\u001b[0m\u001b[0;34m\u001b[0m\u001b[0m\n\u001b[0;32m-> 1350\u001b[0;31m         run_metadata)\n\u001b[0m\u001b[1;32m   1351\u001b[0m \u001b[0;34m\u001b[0m\u001b[0m\n\u001b[1;32m   1352\u001b[0m   \u001b[0;32mdef\u001b[0m \u001b[0m_call_tf_sessionprun\u001b[0m\u001b[0;34m(\u001b[0m\u001b[0mself\u001b[0m\u001b[0;34m,\u001b[0m \u001b[0mhandle\u001b[0m\u001b[0;34m,\u001b[0m \u001b[0mfeed_dict\u001b[0m\u001b[0;34m,\u001b[0m \u001b[0mfetch_list\u001b[0m\u001b[0;34m)\u001b[0m\u001b[0;34m:\u001b[0m\u001b[0;34m\u001b[0m\u001b[0m\n",
      "\u001b[0;31mKeyboardInterrupt\u001b[0m: "
     ]
    }
   ],
   "source": [
    "# Training Loop:\n",
    "n_epochs=400\n",
    "loss_list=[]\n",
    "train_acc_list=[]\n",
    "valid_acc_list=[]\n",
    "\n",
    "\n",
    "for epoch in range(n_epochs):\n",
    "    i=0\n",
    "    l=np.shape(train_x)[0]\n",
    "    for n in range(math.ceil(l/N)):\n",
    "        batch_x, batch_y=dataset.next_batch(N)\n",
    "        _=sess.run(train_step, feed_dict={x: batch_x, y_: batch_y})\n",
    "        loss_=sess.run(loss, feed_dict={x: batch_x, y_: batch_y})\n",
    "        loss_list.append(loss_)\n",
    "        \n",
    "    train_acc=sess.run(accuracy,feed_dict={x: train_x, y_: train_y})\n",
    "    valid_acc=sess.run(accuracy,feed_dict={x: valid_x, y_: valid_y})\n",
    "    \n",
    "    train_acc_list.append(train_acc)\n",
    "    valid_acc_list.append(valid_acc)\n",
    "    \n",
    "    \n",
    "    if epoch%10==0:\n",
    "        #print(\"Epoch %s. Complexity: %s. Loss: %s, Train_acc %s, Valid_acc %s\" %\n",
    "          #(epoch, complexity, cost, train_acc*100, valid_acc*100))\n",
    "        print(\"Epoch %s. Train_Acc  %s. Valid_Acc: %s. \" %\n",
    "          (epoch, train_acc*100, valid_acc*100))"
   ]
  },
  {
   "cell_type": "code",
   "execution_count": 13,
   "metadata": {},
   "outputs": [
    {
     "data": {
      "text/plain": [
       "<matplotlib.legend.Legend at 0x7efd0609b048>"
      ]
     },
     "execution_count": 13,
     "metadata": {},
     "output_type": "execute_result"
    },
    {
     "data": {
      "image/png": "[encoded data removed]",
      "text/plain": [
       "<matplotlib.figure.Figure at 0x7efd060b32e8>"
      ]
     },
     "metadata": {},
     "output_type": "display_data"
    }
   ],
   "source": [
    "plt.plot(loss_list)\n",
    "plt.xlabel('Epoch')\n",
    "plt.legend(['Loss'])\n"
   ]
  },
  {
   "cell_type": "code",
   "execution_count": 14,
   "metadata": {},
   "outputs": [
    {
     "data": {
      "image/png": "[encoded data removed]",
      "text/plain": [
       "<matplotlib.figure.Figure at 0x7efd0603af28>"
      ]
     },
     "metadata": {},
     "output_type": "display_data"
    }
   ],
   "source": [
    "plt.plot(train_acc_list)\n",
    "plt.plot(valid_acc_list)\n",
    "plt.xlabel('Epoch')\n",
    "plt.legend(['Training Accuracy', 'Valid Accuracy'])\n",
    "plt.show()"
   ]
  },
  {
   "cell_type": "code",
   "execution_count": 15,
   "metadata": {},
   "outputs": [
    {
     "name": "stdout",
     "output_type": "stream",
     "text": [
      "test Accuracy= 98.50999999999999\n"
     ]
    }
   ],
   "source": [
    "# Test Accuracy/ test Error\n",
    "# We draw 100 samples from the variational distribution to compute the predictive posterior distribution using Monte Carlo Integration\n",
    "\n",
    "np_probs = np.zeros((len(test_y), 10)) # to store the output of the network for the test examples\n",
    "\n",
    "mc_steps = 100\n",
    "for _ in range(mc_steps):\n",
    "    np_probs += sess.run(predict, feed_dict={x: test_x})\n",
    "\n",
    "np_probs /= mc_steps\n",
    "\n",
    "test_acc = np.mean(np.argmax(np_probs,1) == np.argmax(test_y,1))*100\n",
    "\n",
    "print('test Accuracy=', test_acc)"
   ]
  },
  {
   "cell_type": "code",
   "execution_count": null,
   "metadata": {},
   "outputs": [],
   "source": []
  },
  {
   "cell_type": "markdown",
   "metadata": {},
   "source": [
    "References:\n",
    "\n",
    "- Blundell, Charles, et al. \"Weight uncertainty in neural networks.\" arXiv preprint arXiv:1505.05424 (2015).\n",
    "\n"
   ]
  },
  {
   "cell_type": "code",
   "execution_count": null,
   "metadata": {},
   "outputs": [],
   "source": []
  }
 ],
 "metadata": {
  "kernelspec": {
   "display_name": "Python 3",
   "language": "python",
   "name": "python3"
  },
  "language_info": {
   "codemirror_mode": {
    "name": "ipython",
    "version": 3
   },
   "file_extension": ".py",
   "mimetype": "text/x-python",
   "name": "python",
   "nbconvert_exporter": "python",
   "pygments_lexer": "ipython3",
   "version": "3.6.4"
  }
 },
 "nbformat": 4,
 "nbformat_minor": 2
}
